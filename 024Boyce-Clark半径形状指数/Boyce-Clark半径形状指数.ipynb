{
 "cells": [
  {
   "cell_type": "markdown",
   "metadata": {},
   "source": [
    "# 利用arcpy包求解BC半径形状指数"
   ]
  },
  {
   "cell_type": "markdown",
   "metadata": {},
   "source": [
    "## Boyce-Clark半径形状指数：\n",
    "\n",
    "### 1964年，Boyce和Clark提出的放射状指数。\n",
    "### 其基本思想是将研究区形状与标准圆进行比较，得出一个相对指数。\n",
    "### 这种方法是一种基于半径测度的，又叫半径形状指数。\n",
    "### 此指数用于研究几何图形是否规则，越接近圆形，指数越小（圆的B-C指数为0）\n"
   ]
  },
  {
   "cell_type": "markdown",
   "metadata": {},
   "source": [
    "## 代码及说明 "
   ]
  },
  {
   "cell_type": "markdown",
   "metadata": {},
   "source": [
    "### 导入arcpy包"
   ]
  },
  {
   "cell_type": "code",
   "execution_count": 1,
   "metadata": {},
   "outputs": [],
   "source": [
    "import arcpy"
   ]
  },
  {
   "cell_type": "markdown",
   "metadata": {},
   "source": [
    "### 设置数据处理环境，包括工作空间和允许数据覆盖，定义空间参考"
   ]
  },
  {
   "cell_type": "code",
   "execution_count": 2,
   "metadata": {},
   "outputs": [],
   "source": [
    "arcpy.env.workspace = r\"E:\\Other\\1\\data\\PythonDemo\\PythonDemo.gdb\"\n",
    "arcpy.env.overwriteOutput = True\n",
    "sr = arcpy.SpatialReference(4326)"
   ]
  },
  {
   "cell_type": "markdown",
   "metadata": {},
   "source": [
    "### 创建结果图层，并且添加需要的字段"
   ]
  },
  {
   "cell_type": "code",
   "execution_count": 3,
   "metadata": {},
   "outputs": [
    {
     "data": {
      "text/html": [
       "<h2>Output</h2>E:\\Other\\1\\data\\PythonDemo\\PythonDemo.gdb\\bci<h2>Messages</h2>Start Time: 2020年12月22日 14:41:47<br/>Adding bci to bci...<br/>Succeeded at 2020年12月22日 14:41:47 (Elapsed Time: 0.24 seconds)<br/><style>.rendered_html td, .rendered_html th {text-align: left;}.rendered_html tbody {border: 1px solid black;}</style>"
      ],
      "text/plain": [
       "<Result 'E:\\\\Other\\\\1\\\\data\\\\PythonDemo\\\\PythonDemo.gdb\\\\bci'>"
      ]
     },
     "execution_count": 3,
     "metadata": {},
     "output_type": "execute_result"
    }
   ],
   "source": [
    "pline = arcpy.CreateFeatureclass_management(arcpy.env.workspace, \"sline\", \"POLYLINE\", spatial_reference = sr)\n",
    "arcpy.AddField_management(pline, \"name\", \"TEXT\")\n",
    "bcipnt = arcpy.CreateFeatureclass_management(arcpy.env.workspace, \"bci\", \"POINT\", spatial_reference = sr)\n",
    "arcpy.AddField_management(bcipnt, \"name\", \"TEXT\")\n",
    "arcpy.AddField_management(bcipnt, \"bci\", \"FLOAT\")"
   ]
  },
  {
   "cell_type": "markdown",
   "metadata": {},
   "source": [
    "### 定义各种方法"
   ]
  },
  {
   "cell_type": "markdown",
   "metadata": {},
   "source": [
    "#### 子方法1 ： 获取从中心点到extent的最大范围的方法"
   ]
  },
  {
   "cell_type": "code",
   "execution_count": 4,
   "metadata": {},
   "outputs": [],
   "source": [
    "def maxdist(pnt, ext):\n",
    "    point = arcpy.Point(ext.XMin, ext.YMin)\n",
    "    pg1 = arcpy.PointGeometry(point, sr)\n",
    "    dist1 = pnt.angleAndDistanceTo(pg1)[1]\n",
    "    point = arcpy.Point(ext.XMax, ext.YMax)\n",
    "    pg2 = arcpy.PointGeometry(point, sr)\n",
    "    dist2 = pnt.angleAndDistanceTo(pg2)[1]\n",
    "    return max(dist1, dist2)"
   ]
  },
  {
   "cell_type": "markdown",
   "metadata": {},
   "source": [
    "#### 子方法2：根据角度和距离，创建一条射线"
   ]
  },
  {
   "cell_type": "code",
   "execution_count": 5,
   "metadata": {},
   "outputs": [],
   "source": [
    "def createInPnt(cent, dist, angle):\n",
    "    adpnt = cent.pointFromAngleAndDistance(angle, dist)\n",
    "    line = arcpy.Polyline(arcpy.Array([cent.centroid, adpnt.centroid]), sr)\n",
    "    return line"
   ]
  },
  {
   "cell_type": "markdown",
   "metadata": {},
   "source": [
    "#### 子方法3：如果有多个交点，有两种处理方法，一种是取短线，一种是取长线"
   ]
  },
  {
   "cell_type": "code",
   "execution_count": 6,
   "metadata": {},
   "outputs": [],
   "source": [
    "def minPoint(cent, pnt):\n",
    "    p = pnt.centroid\n",
    "    dmin = cent.angleAndDistanceTo(arcpy.PointGeometry(p, sr))[1]\n",
    "    for i in range(pnt.pointCount):\n",
    "        dist1 = cent.angleAndDistanceTo(arcpy.PointGeometry(pnt[i], sr))[1]\n",
    "        if dmin > dist1:\n",
    "            dmin = dist1\n",
    "            p = pnt[i]\n",
    "    return (dmin, p)\n",
    "\n",
    "def maxPoint(cent, pnt):\n",
    "    dmax = 0\n",
    "    p = pnt.centroid\n",
    "    for i in range(pnt.pointCount):\n",
    "        dist1 = cent.angleAndDistanceTo(arcpy.PointGeometry(pnt[i], sr))[1]\n",
    "        if dmax < dist1:\n",
    "            dmax = dist1\n",
    "            p = pnt[i]\n",
    "    return (dmax, p)"
   ]
  },
  {
   "cell_type": "markdown",
   "metadata": {},
   "source": [
    "#### 子方法4：将生成的结果的线，写入到数据中"
   ]
  },
  {
   "cell_type": "code",
   "execution_count": 7,
   "metadata": {},
   "outputs": [],
   "source": [
    "def createPline(name, line):\n",
    "    cursor = arcpy.da.InsertCursor(\"sline\", [\"SHAPE@\", \"name\"])\n",
    "    for l in line:\n",
    "        row = (l, name)\n",
    "        cursor.insertRow(row)\n",
    "    del cursor"
   ]
  },
  {
   "cell_type": "markdown",
   "metadata": {},
   "source": [
    "#### 子方法5：计算BC指数"
   ]
  },
  {
   "cell_type": "code",
   "execution_count": 8,
   "metadata": {},
   "outputs": [],
   "source": [
    "def culabcIndex(distlist, n):\n",
    "    distsum = sum(distlist)\n",
    "    bci = 0.0\n",
    "    for d in distlist:\n",
    "        bci += math.fabs(((d / distsum) * 100) - (100.0 / n))\n",
    "    return bci"
   ]
  },
  {
   "cell_type": "markdown",
   "metadata": {},
   "source": [
    "#### 子方法6: 主功能"
   ]
  },
  {
   "cell_type": "code",
   "execution_count": 9,
   "metadata": {},
   "outputs": [],
   "source": [
    "def bcindex(pline, name, poly, n):\n",
    "    cent = arcpy.PointGeometry(poly.centroid, sr)\n",
    "    angle = 360.0 / n\n",
    "    ext = poly.extent\n",
    "    dist = maxdist(cent, ext)\n",
    "    distlist = []\n",
    "    linelist = []\n",
    "    for i in range(n):\n",
    "        a = i * angle\n",
    "        line = createInPnt(cent, dist, a)\n",
    "        pnt = line.intersect(poly, 1)\n",
    "        mp = maxPoint(cent, pnt)\n",
    "        linelist.append(arcpy.Polyline(arcpy.Array([cent.centroid, mp[1]]), sr))\n",
    "        distlist.append(mp[0])\n",
    "    bci = culabcIndex(distlist, n)\n",
    "    createPline(name, linelist)\n",
    "    return bci"
   ]
  },
  {
   "cell_type": "markdown",
   "metadata": {},
   "source": [
    "#### main函数"
   ]
  },
  {
   "cell_type": "code",
   "execution_count": 10,
   "metadata": {},
   "outputs": [
    {
     "name": "stdout",
     "output_type": "stream",
     "text": [
      "(<Point (127.72624359266773, 47.84220356013497, #, #)>, '黑龙江', 29.884698351976635)\n",
      "(<Point (85.20062883483251, 41.11242032354995, #, #)>, '新疆', 19.13302859943545)\n",
      "(<Point (112.26308765476394, 37.57003564328917, #, #)>, '山西', 28.395275857599124)\n",
      "(<Point (106.15840294004676, 37.26834054240205, #, #)>, '宁夏', 33.60425733789232)\n",
      "(<Point (88.45982362589172, 31.495833747271853, #, #)>, '西藏', 31.864406467251175)\n",
      "(<Point (118.10740222691372, 36.32194184409586, #, #)>, '山东', 20.48993063729425)\n",
      "(<Point (113.5811856659696, 33.874427886351505, #, #)>, '河南', 17.69485721600139)\n",
      "(<Point (119.42019804373498, 32.98083427554814, #, #)>, '江苏', 26.1252011768546)\n",
      "(<Point (117.19721898525943, 31.822978603795995, #, #)>, '安徽', 21.148567965123675)\n",
      "(<Point (112.23941749142321, 30.967806163742644, #, #)>, '湖北', 31.119986172013608)\n",
      "(<Point (120.02375899354038, 29.165944834160364, #, #)>, '浙江', 10.77822823519536)\n",
      "(<Point (115.69996028206573, 27.608126264151316, #, #)>, '江西', 23.675399835449145)\n",
      "(<Point (111.69449362691769, 27.605384251049678, #, #)>, '湖南', 12.251784279362326)\n",
      "(<Point (101.49648467347647, 24.974754482784714, #, #)>, '云南', 18.833784902780536)\n",
      "(<Point (106.87260288814268, 26.811485428845973, #, #)>, '贵州', 15.264387353614495)\n",
      "(<Point (117.9661952882295, 26.075083057166555, #, #)>, '福建', 15.369069543807175)\n",
      "(<Point (108.7809506830308, 23.835384387251768, #, #)>, '广西', 13.844785725800476)\n",
      "(<Point (113.40157074972429, 23.350543387203285, #, #)>, '广东', 30.596713770759365)\n",
      "(<Point (109.74528010149473, 19.192401581278933, #, #)>, '海南', 15.95251890326718)\n",
      "(<Point (126.14936277240218, 43.66191863023189, #, #)>, '吉林', 28.26897058139867)\n",
      "(<Point (122.56636193787, 41.298674465523455, #, #)>, '辽宁', 21.219037144168265)\n",
      "(<Point (117.30572283125694, 39.288569708203056, #, #)>, '天津', 24.1088541706385)\n",
      "(<Point (96.02158404996676, 35.74303404386222, #, #)>, '青海', 15.679446317587919)\n",
      "(<Point (104.70711537257642, 34.940227713438276, #, #)>, '甘肃', 47.83648772464698)\n",
      "(<Point (108.85403752551336, 35.203458222457805, #, #)>, '陕西', 43.32338889611713)\n",
      "(<Point (113.8993360456931, 44.08694893045923, #, #)>, '内蒙古', 59.584410384713024)\n",
      "(<Point (107.8570297335014, 30.047655649804128, #, #)>, '重庆', 41.88603139581827)\n",
      "(<Point (116.08773863560256, 39.53385087810275, #, #)>, '河北', 25.503963189044164)\n",
      "(<Point (121.39804395120801, 31.16545549331789, #, #)>, '上海', 19.53006223422724)\n",
      "(<Point (116.38580898427057, 40.163351810796556, #, #)>, '北京', 19.62476985447872)\n",
      "(<Point (120.96796815247285, 23.74545929607433, #, #)>, '台湾', 30.918276026141093)\n",
      "(<Point (114.12086709701506, 22.376717798371356, #, #)>, '香港', 28.830644150950974)\n",
      "(<Point (113.56351550529541, 22.1384974448961, #, #)>, '澳门', 74.12285532900415)\n",
      "(<Point (102.72824372810581, 30.611668535066404, #, #)>, '四川', 17.673571971594168)\n"
     ]
    }
   ],
   "source": [
    "fields = ['SHAPE@', 'name']\n",
    "biclist = []\n",
    "geo = [row for row in arcpy.da.SearchCursor(\"cn\", fields)]\n",
    "for g in geo:\n",
    "    bci = bcindex(pline, g[1], g[0], 36)\n",
    "    biclist.append((g[0].centroid, g[1], bci))\n",
    "bcicursor = arcpy.da.InsertCursor(bcipnt, [\"SHAPE@\", \"name\", \"bci\"])\n",
    "for b in biclist:\n",
    "    print(b)\n",
    "    row = b\n",
    "    bcicursor.insertRow(row)\n",
    "del bcicursor"
   ]
  },
  {
   "cell_type": "code",
   "execution_count": null,
   "metadata": {},
   "outputs": [],
   "source": []
  }
 ],
 "metadata": {
  "kernelspec": {
   "display_name": "Python 3",
   "language": "python",
   "name": "python3"
  },
  "language_info": {
   "codemirror_mode": {
    "name": "ipython",
    "version": 3
   },
   "file_extension": ".py",
   "mimetype": "text/x-python",
   "name": "python",
   "nbconvert_exporter": "python",
   "pygments_lexer": "ipython3",
   "version": "3.7.9"
  }
 },
 "nbformat": 4,
 "nbformat_minor": 2
}
